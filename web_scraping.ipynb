{
 "cells": [
  {
   "cell_type": "markdown",
   "id": "awful-career",
   "metadata": {},
   "source": [
    "# Web Scraping "
   ]
  },
  {
   "cell_type": "markdown",
   "id": "muslim-polish",
   "metadata": {},
   "source": [
    "### Idea\n",
    "scrape delivery cost from lieferando website and analyze"
   ]
  },
  {
   "cell_type": "code",
   "execution_count": null,
   "id": "scheduled-innocent",
   "metadata": {},
   "outputs": [],
   "source": []
  },
  {
   "cell_type": "markdown",
   "id": "boring-sally",
   "metadata": {},
   "source": [
    "https://classroom.udacity.com/nanodegrees/nd002/parts/cd0015/modules/0fb45663-d737-4238-8c74-15e5bc030b8f/lessons/1ccfd461-15e0-4ac3-be52-9d53d7cd2469/concepts/5c866218-7c6c-4da5-a76c-2034b7ccea89"
   ]
  },
  {
   "cell_type": "markdown",
   "id": "expensive-money",
   "metadata": {},
   "source": [
    "https://tomassetti.me/parsing-in-python/"
   ]
  },
  {
   "cell_type": "markdown",
   "id": "native-inspector",
   "metadata": {},
   "source": [
    "### Udemy"
   ]
  },
  {
   "cell_type": "markdown",
   "id": "muslim-strength",
   "metadata": {},
   "source": [
    "https://www.udemy.com/topic/web-scraping/"
   ]
  },
  {
   "cell_type": "markdown",
   "id": "dimensional-miller",
   "metadata": {},
   "source": [
    "https://www.udemy.com/course/web-scraping-and-api-fundamentals-in-python/?ranMID=39197&ranEAID=CuIbQrBnhiw&ranSiteID=CuIbQrBnhiw-CMPR_m40HATwSfG_XTosZg&LSNPUBID=CuIbQrBnhiw&utm_source=aff-campaign&utm_medium=udemyads"
   ]
  },
  {
   "cell_type": "markdown",
   "id": "sustainable-enforcement",
   "metadata": {},
   "source": [
    "https://www.udemy.com/course/web-scraping-with-python-beautifulsoup/?ranMID=39197&ranEAID=JVFxdTr9V80&ranSiteID=JVFxdTr9V80-XIrDRRRlNSEMX1vrh._Niw&LSNPUBID=JVFxdTr9V80&utm_source=aff-campaign&utm_medium=udemyads"
   ]
  },
  {
   "cell_type": "markdown",
   "id": "lonely-italic",
   "metadata": {},
   "source": [
    "https://www.udemy.com/course/web-scraping-python/?ranMID=39197&ranEAID=CuIbQrBnhiw&ranSiteID=CuIbQrBnhiw-Qu7wfEmaihfifoHbOoBz7g&LSNPUBID=CuIbQrBnhiw&utm_source=aff-campaign&utm_medium=udemyads"
   ]
  },
  {
   "cell_type": "markdown",
   "id": "unknown-month",
   "metadata": {},
   "source": [
    "https://www.coursera.org/learn/python-network-data?specialization=python&utm_source=gg&utm_medium=sem&utm_campaign=06-PythonforEverybody-ROW&utm_content=06-PythonforEverybody-ROW&campaignid=6493101579&adgroupid=111505143509&device=c&keyword=&matchtype=b&network=g&devicemodel=&adpostion=&creativeid=475026818346&hide_mobile_promo&gclid=CjwKCAjw2vOLBhBPEiwAjEeK9st90Zwpq0yMOscOJ3hLxWbkHrphwrFCTER7LeFxdZ2y8-19i7QUJRoC_RsQAvD_BwE"
   ]
  },
  {
   "cell_type": "markdown",
   "id": "accomplished-weekend",
   "metadata": {},
   "source": [
    "https://www.udemy.com/course/web-scraping-with-python-beautifulsoup/?utm_source=adwords&utm_medium=udemyads&utm_campaign=DSA_Catchall_la.EN_cc.ROW&utm_content=deal4584&utm_term=_._ag_88010211481_._ad_535397282064_._kw__._de_c_._dm__._pl__._ti_dsa-93451758763_._li_9044671_._pd__._&matchtype=b&gclid=CjwKCAjw2vOLBhBPEiwAjEeK9p8m0eDwjFLkfVFat3VSFPJFsSWSs4b3-M6q3y8oymmbOXW_p-AVmxoCoAQQAvD_BwE"
   ]
  },
  {
   "cell_type": "markdown",
   "id": "immune-natural",
   "metadata": {},
   "source": [
    "### Coursera"
   ]
  },
  {
   "cell_type": "markdown",
   "id": "least-roommate",
   "metadata": {},
   "source": [
    "https://de.coursera.org/learn/data-collection-processing-python"
   ]
  },
  {
   "cell_type": "markdown",
   "id": "minute-cooling",
   "metadata": {},
   "source": [
    "https://de.coursera.org/learn/social-media-data-analytics"
   ]
  },
  {
   "cell_type": "markdown",
   "id": "assigned-sympathy",
   "metadata": {},
   "source": [
    "https://www.coursera.org/learn/python-network-data?specialization=python&utm_source=gg&utm_medium=sem&utm_campaign=06-PythonforEverybody-ROW&utm_content=06-PythonforEverybody-ROW&campaignid=6493101579&adgroupid=111505143509&device=c&keyword=&matchtype=b&network=g&devicemodel=&adpostion=&creativeid=475026818346&hide_mobile_promo&gclid=CjwKCAjw2vOLBhBPEiwAjEeK9st90Zwpq0yMOscOJ3hLxWbkHrphwrFCTER7LeFxdZ2y8-19i7QUJRoC_RsQAvD_BwE"
   ]
  },
  {
   "cell_type": "markdown",
   "id": "owned-graham",
   "metadata": {},
   "source": [
    "### Pluralsight"
   ]
  },
  {
   "cell_type": "markdown",
   "id": "dress-optics",
   "metadata": {},
   "source": [
    "https://www.pluralsight.com/courses/exploring-web-scraping-python?aid=7010c000002SNseAAG&promo=&utm_source=non_branded&utm_medium=digital_paid_search_google&utm_campaign=EMEA_DE_Dynamic&utm_content=&cq_cmp=1743999025&gclid=CjwKCAjw2vOLBhBPEiwAjEeK9r_GHgDFErwFbMmIZEIhOWu4CXHdfNItoXmwECV6zTNlvJGpKqiNthoCNY0QAvD_BwE"
   ]
  },
  {
   "cell_type": "markdown",
   "id": "million-velvet",
   "metadata": {},
   "source": [
    "### Datacamp"
   ]
  },
  {
   "cell_type": "markdown",
   "id": "radio-payroll",
   "metadata": {},
   "source": [
    "https://www.datacamp.com/courses/web-scraping-with-python"
   ]
  },
  {
   "cell_type": "markdown",
   "id": "uniform-rider",
   "metadata": {},
   "source": [
    "### Codecademy"
   ]
  },
  {
   "cell_type": "markdown",
   "id": "configured-brave",
   "metadata": {},
   "source": [
    "https://www.codecademy.com/learn/learn-web-scraping"
   ]
  },
  {
   "cell_type": "code",
   "execution_count": null,
   "id": "aerial-broadcasting",
   "metadata": {},
   "outputs": [],
   "source": []
  }
 ],
 "metadata": {
  "kernelspec": {
   "display_name": "Python [conda env:root] *",
   "language": "python",
   "name": "conda-root-py"
  },
  "language_info": {
   "codemirror_mode": {
    "name": "ipython",
    "version": 3
   },
   "file_extension": ".py",
   "mimetype": "text/x-python",
   "name": "python",
   "nbconvert_exporter": "python",
   "pygments_lexer": "ipython3",
   "version": "3.8.8"
  }
 },
 "nbformat": 4,
 "nbformat_minor": 5
}
